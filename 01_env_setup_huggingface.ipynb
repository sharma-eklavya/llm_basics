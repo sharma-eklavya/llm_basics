{
 "cells": [
  {
   "cell_type": "markdown",
   "id": "a384ff66-72d9-43f1-b1ee-6bc405cfe187",
   "metadata": {},
   "source": [
    "# Testing API call to Huggingface as part of Environment Setup"
   ]
  },
  {
   "cell_type": "markdown",
   "id": "cc0b88ac-2a4c-4071-ba43-a99ee96fd80a",
   "metadata": {},
   "source": [
    "## Importing Libraries and Setting Up Access Tokens"
   ]
  },
  {
   "cell_type": "code",
   "execution_count": 1,
   "id": "c4b5bb1d-53e6-42a0-9b4e-f9132b13e8e7",
   "metadata": {},
   "outputs": [],
   "source": [
    "from langchain import HuggingFaceHub\n",
    "import os"
   ]
  },
  {
   "cell_type": "code",
   "execution_count": 2,
   "id": "d42a695a-7671-4f5e-8327-9df4e9d614d4",
   "metadata": {},
   "outputs": [],
   "source": [
    "## Defining a function to authenticate our call via the API Key generated\n",
    "path = os.getcwd()\n",
    "def load_huggingface_key():\n",
    "    with open(\"{}/config/huggingface_key.txt\".format(path), \"r\") as file:\n",
    "        key = file.readline()\n",
    "    return key\n",
    "\n",
    "os.environ[\"HUGGINGFACEHUB_API_TOKEN\"] = load_huggingface_key()"
   ]
  },
  {
   "cell_type": "markdown",
   "id": "bdfd6a06-751d-44f5-b475-85ddde7dd6f6",
   "metadata": {},
   "source": [
    "## Defining LLM [flan-t5-large](https://huggingface.co/google/flan-t5-large)"
   ]
  },
  {
   "cell_type": "code",
   "execution_count": 3,
   "id": "c487f865-3d41-46a6-b897-c9dea127e2a7",
   "metadata": {},
   "outputs": [],
   "source": [
    "## Setting Up the LLM\n",
    "## repo_id We are using Google's Flan-t5-base model\n",
    "## temperature is a parameter of LLM that determines the randomness (hence creativity) of the response.\n",
    "## Value between 0 and 1. 0 determines deterministic response. 1 gives us a highly variable and creative response.\n",
    "## max_length limits the length of the generated text\n",
    "\n",
    "model_parameters = {\"temperature\": 0, \"max_length\": 256}\n",
    "model_name = \"google/flan-t5-large\"\n",
    "\n",
    "llm = HuggingFaceHub(repo_id = model_name, model_kwargs = model_parameters)"
   ]
  },
  {
   "cell_type": "markdown",
   "id": "50844912-5a90-4f80-ac3f-f792f811a493",
   "metadata": {},
   "source": [
    "## Prompt"
   ]
  },
  {
   "cell_type": "code",
   "execution_count": 4,
   "id": "bb459761-1110-4c32-926e-3b217505c6b7",
   "metadata": {},
   "outputs": [],
   "source": [
    "## Setting up Prompt\n",
    "prompt = \"Please list some colleges which offer PhD in Natural Language Processing\""
   ]
  },
  {
   "cell_type": "markdown",
   "id": "edcac512-5ac4-4a97-91ff-2f29ea0794ee",
   "metadata": {},
   "source": [
    "## Output from LLM"
   ]
  },
  {
   "cell_type": "code",
   "execution_count": 5,
   "id": "6c4455aa-925d-45ea-a80b-294e36330ebc",
   "metadata": {},
   "outputs": [
    {
     "name": "stdout",
     "output_type": "stream",
     "text": [
      "University of California, Berkeley\n"
     ]
    }
   ],
   "source": [
    "## Output from LLM\n",
    "response = llm(prompt)\n",
    "print(response)"
   ]
  },
  {
   "cell_type": "code",
   "execution_count": null,
   "id": "fe9fe1a7-8890-4fb5-a9cf-de0caebf3109",
   "metadata": {},
   "outputs": [],
   "source": []
  }
 ],
 "metadata": {
  "kernelspec": {
   "display_name": "Python 3 (ipykernel)",
   "language": "python",
   "name": "python3"
  },
  "language_info": {
   "codemirror_mode": {
    "name": "ipython",
    "version": 3
   },
   "file_extension": ".py",
   "mimetype": "text/x-python",
   "name": "python",
   "nbconvert_exporter": "python",
   "pygments_lexer": "ipython3",
   "version": "3.10.1"
  }
 },
 "nbformat": 4,
 "nbformat_minor": 5
}
