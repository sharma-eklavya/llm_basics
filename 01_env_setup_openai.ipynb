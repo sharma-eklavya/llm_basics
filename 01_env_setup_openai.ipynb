{
 "cells": [
  {
   "cell_type": "markdown",
   "id": "146ae27a-39f6-4890-a8ce-ecac58fad765",
   "metadata": {},
   "source": [
    "# Testing API call to OpenAI as part of Environment Setup"
   ]
  },
  {
   "cell_type": "markdown",
   "id": "d40182e2-fd93-4449-a88d-fc7a1972d457",
   "metadata": {},
   "source": [
    "## Importing Libraries and Setting Up Access Tokens"
   ]
  },
  {
   "cell_type": "code",
   "execution_count": 1,
   "id": "8711e25c-ecc1-475d-a748-5f44668c2ed7",
   "metadata": {},
   "outputs": [],
   "source": [
    "from langchain.llms import OpenAI\n",
    "import os"
   ]
  },
  {
   "cell_type": "code",
   "execution_count": 2,
   "id": "cdc7629d-651e-4034-a13a-369fe45bb32c",
   "metadata": {},
   "outputs": [],
   "source": [
    "## Defining a function to authenticate our call via the API Key generated\n",
    "path = os.getcwd()\n",
    "def load_openai_key():\n",
    "    with open(\"{}/config/openai_key.txt\".format(path), \"r\") as file:\n",
    "        key = file.readline()\n",
    "    return key\n",
    "\n",
    "os.environ[\"OPENAI_API_KEY\"] = load_openai_key()"
   ]
  },
  {
   "cell_type": "markdown",
   "id": "cbcaa10c-4ee6-4c49-b972-d8847651c9f4",
   "metadata": {},
   "source": [
    "## Defining LLM"
   ]
  },
  {
   "cell_type": "code",
   "execution_count": 3,
   "id": "ece88179-146f-421f-81fe-2028c88feade",
   "metadata": {},
   "outputs": [],
   "source": [
    "## Setting Up the LLM\n",
    "## temperature is a parameter of LLM that determines the randomness (hence creativity) of the response.\n",
    "## It is a value between 0 and 1.\n",
    "## 0 determines deterministic response. 1 gives us a highly variable and creative response.\n",
    "llm = OpenAI(temperature = 0.0)"
   ]
  },
  {
   "cell_type": "code",
   "execution_count": 4,
   "id": "bb17ae52-793d-4378-bdc2-d7525089b285",
   "metadata": {},
   "outputs": [],
   "source": [
    "## Setting up Prompt\n",
    "prompt = \"Please list some colleges which offer PhD in Natural Language Processing\""
   ]
  },
  {
   "cell_type": "code",
   "execution_count": 5,
   "id": "948a9b15-27a8-4c03-82bb-bf82f3a5bfbc",
   "metadata": {},
   "outputs": [
    {
     "name": "stdout",
     "output_type": "stream",
     "text": [
      "\n",
      "\n",
      "1. Carnegie Mellon University\n",
      "2. Stanford University\n",
      "3. University of California, Berkeley\n",
      "4. University of Washington\n",
      "5. Massachusetts Institute of Technology\n",
      "6. University of Toronto\n",
      "7. University of Edinburgh\n",
      "8. University of Cambridge\n",
      "9. University of Oxford\n",
      "10. University of Illinois at Urbana-Champaign\n"
     ]
    }
   ],
   "source": [
    "## Output from LLM\n",
    "response = llm(prompt)\n",
    "print(response)"
   ]
  },
  {
   "cell_type": "code",
   "execution_count": null,
   "id": "e981efab-6320-4144-aeb5-602981560f72",
   "metadata": {},
   "outputs": [],
   "source": []
  }
 ],
 "metadata": {
  "kernelspec": {
   "display_name": "Python 3 (ipykernel)",
   "language": "python",
   "name": "python3"
  },
  "language_info": {
   "codemirror_mode": {
    "name": "ipython",
    "version": 3
   },
   "file_extension": ".py",
   "mimetype": "text/x-python",
   "name": "python",
   "nbconvert_exporter": "python",
   "pygments_lexer": "ipython3",
   "version": "3.10.1"
  }
 },
 "nbformat": 4,
 "nbformat_minor": 5
}
